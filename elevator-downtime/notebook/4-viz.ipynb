{
 "cells": [
  {
   "cell_type": "markdown",
   "metadata": {},
   "source": [
    "## 1. Setup"
   ]
  },
  {
   "cell_type": "code",
   "execution_count": 1,
   "metadata": {},
   "outputs": [],
   "source": [
    "%load_ext rpy2.ipython\n",
    "%load_ext autoreload\n",
    "%autoreload 2\n",
    "\n",
    "%matplotlib inline  \n",
    "from matplotlib import rcParams\n",
    "rcParams['figure.figsize'] = (16, 100)\n",
    "\n",
    "import warnings\n",
    "from rpy2.rinterface import RRuntimeWarning\n",
    "warnings.filterwarnings(\"ignore\") # Ignore all warnings\n",
    "# warnings.filterwarnings(\"ignore\", category=RRuntimeWarning) # Show some warnings\n",
    "\n",
    "import pandas as pd\n",
    "import numpy as np\n",
    "import matplotlib.pyplot as plt\n",
    "from IPython.display import display, HTML\n",
    "from datetime import datetime"
   ]
  },
  {
   "cell_type": "code",
   "execution_count": 2,
   "metadata": {},
   "outputs": [
    {
     "data": {
      "application/javascript": "// Disable auto-scrolling\nIPython.OutputArea.prototype._should_scroll = function(lines) {\n    return false;\n}\n",
      "text/plain": [
       "<IPython.core.display.Javascript object>"
      ]
     },
     "metadata": {},
     "output_type": "display_data"
    }
   ],
   "source": [
    "%%javascript\n",
    "// Disable auto-scrolling\n",
    "IPython.OutputArea.prototype._should_scroll = function(lines) {\n",
    "    return false;\n",
    "}"
   ]
  },
  {
   "cell_type": "code",
   "execution_count": 3,
   "metadata": {},
   "outputs": [
    {
     "name": "stdout",
     "output_type": "stream",
     "text": [
      "── Attaching core tidyverse packages ──────────────────────── tidyverse 2.0.0 ──\n",
      "✔ dplyr     1.1.4     ✔ readr     2.1.5\n",
      "✔ forcats   1.0.0     ✔ stringr   1.5.1\n",
      "✔ ggplot2   3.5.0     ✔ tibble    3.2.1\n",
      "✔ lubridate 1.9.3     ✔ tidyr     1.3.0\n",
      "✔ purrr     1.0.2     \n",
      "── Conflicts ────────────────────────────────────────── tidyverse_conflicts() ──\n",
      "✖ dplyr::filter() masks stats::filter()\n",
      "✖ dplyr::lag()    masks stats::lag()\n",
      "ℹ Use the conflicted package (<http://conflicted.r-lib.org/>) to force all conflicts to become errors\n"
     ]
    },
    {
     "data": {
      "text/plain": [
       "Loading required package: flexplot\n",
       "Loading required package: tidyverse\n",
       "In addition: Warning message:\n",
       "In library(package, lib.loc = lib.loc, character.only = TRUE, logical.return = TRUE,  :\n",
       "  there is no package called ‘flexplot’\n"
      ]
     },
     "metadata": {},
     "output_type": "display_data"
    }
   ],
   "source": [
    "%%R\n",
    "\n",
    "# My commonly used R imports\n",
    "require('flexplot')\n",
    "require('tidyverse')\n",
    "library(ggrepel)\n",
    "library(ggbeeswarm)\n"
   ]
  },
  {
   "cell_type": "markdown",
   "metadata": {},
   "source": [
    "## 2. Load data"
   ]
  },
  {
   "cell_type": "code",
   "execution_count": 4,
   "metadata": {},
   "outputs": [
    {
     "name": "stdout",
     "output_type": "stream",
     "text": [
      "Rows: 18051 Columns: 52\n",
      "── Column specification ────────────────────────────────────────────────────────\n",
      "Delimiter: \",\"\n",
      "chr  (28): Common Name, Equipment Description, Executive Comment, outage_cod...\n",
      "dbl  (19): GEOID, Outage, Station MRN, Station ID, Complex ID, lat, long, AD...\n",
      "lgl   (1): external\n",
      "dttm  (4): Out of Service Date, Estimated Return to Service Date, Actual Ret...\n",
      "\n",
      "ℹ Use `spec()` to retrieve the full column specification for this data.\n",
      "ℹ Specify the column types or set `show_col_types = FALSE` to quiet this message.\n"
     ]
    }
   ],
   "source": [
    "%%R -o df\n",
    "df <- read_csv('data/output/2023_subway_downtime-external.csv')"
   ]
  },
  {
   "cell_type": "markdown",
   "metadata": {},
   "source": [
    "## 3. Visualize the data"
   ]
  },
  {
   "cell_type": "markdown",
   "metadata": {},
   "source": [
    "#### 1 -  Elevators with the highest downtime"
   ]
  },
  {
   "cell_type": "code",
   "execution_count": 5,
   "metadata": {},
   "outputs": [
    {
     "data": {
      "text/html": [
       "<div>\n",
       "<style scoped>\n",
       "    .dataframe tbody tr th:only-of-type {\n",
       "        vertical-align: middle;\n",
       "    }\n",
       "\n",
       "    .dataframe tbody tr th {\n",
       "        vertical-align: top;\n",
       "    }\n",
       "\n",
       "    .dataframe thead th {\n",
       "        text-align: right;\n",
       "    }\n",
       "</style>\n",
       "<table border=\"1\" class=\"dataframe\">\n",
       "  <thead>\n",
       "    <tr style=\"text-align: right;\">\n",
       "      <th></th>\n",
       "      <th>common_name</th>\n",
       "      <th>downtime</th>\n",
       "    </tr>\n",
       "  </thead>\n",
       "  <tbody>\n",
       "    <tr>\n",
       "      <th>0</th>\n",
       "      <td>EL279X</td>\n",
       "      <td>4045.233333</td>\n",
       "    </tr>\n",
       "    <tr>\n",
       "      <th>1</th>\n",
       "      <td>EL295X</td>\n",
       "      <td>3792.216667</td>\n",
       "    </tr>\n",
       "    <tr>\n",
       "      <th>2</th>\n",
       "      <td>EL404</td>\n",
       "      <td>3510.433333</td>\n",
       "    </tr>\n",
       "    <tr>\n",
       "      <th>3</th>\n",
       "      <td>EL728X</td>\n",
       "      <td>3335.083333</td>\n",
       "    </tr>\n",
       "    <tr>\n",
       "      <th>4</th>\n",
       "      <td>EL407</td>\n",
       "      <td>3292.566667</td>\n",
       "    </tr>\n",
       "    <tr>\n",
       "      <th>5</th>\n",
       "      <td>EL290X</td>\n",
       "      <td>2263.300000</td>\n",
       "    </tr>\n",
       "    <tr>\n",
       "      <th>6</th>\n",
       "      <td>EL327X</td>\n",
       "      <td>2229.816667</td>\n",
       "    </tr>\n",
       "    <tr>\n",
       "      <th>7</th>\n",
       "      <td>EL727X</td>\n",
       "      <td>2102.400000</td>\n",
       "    </tr>\n",
       "    <tr>\n",
       "      <th>8</th>\n",
       "      <td>EL445X</td>\n",
       "      <td>1979.666667</td>\n",
       "    </tr>\n",
       "    <tr>\n",
       "      <th>9</th>\n",
       "      <td>EL287X</td>\n",
       "      <td>1728.466667</td>\n",
       "    </tr>\n",
       "  </tbody>\n",
       "</table>\n",
       "</div>"
      ],
      "text/plain": [
       "  common_name     downtime\n",
       "0      EL279X  4045.233333\n",
       "1      EL295X  3792.216667\n",
       "2       EL404  3510.433333\n",
       "3      EL728X  3335.083333\n",
       "4       EL407  3292.566667\n",
       "5      EL290X  2263.300000\n",
       "6      EL327X  2229.816667\n",
       "7      EL727X  2102.400000\n",
       "8      EL445X  1979.666667\n",
       "9      EL287X  1728.466667"
      ]
     },
     "execution_count": 5,
     "metadata": {},
     "output_type": "execute_result"
    }
   ],
   "source": [
    "df_long_downtime = df.groupby('Common Name')['downtime'].sum().sort_values(ascending=False).head(10)\n",
    "\n",
    "# format df\n",
    "df_long_downtime = df_long_downtime.reset_index().rename(columns={'Common Name':'common_name'})\n",
    "df_long_downtime"
   ]
  },
  {
   "cell_type": "code",
   "execution_count": 6,
   "metadata": {},
   "outputs": [],
   "source": [
    "# add the columns to the df_long_downtime based on 'common_name'\n",
    "df_merged = df_long_downtime.merge(df[['Common Name', 'external','Stop Name', 'Daytime Routes']].drop_duplicates(), left_on='common_name', right_on='Common Name')\n",
    "\n",
    "# calculate the percentage of downtime in a year\n",
    "df_merged['percent_out'] = (df_merged['downtime'] / 8760)\n",
    "\n",
    "# format the df\n",
    "df_merged = df_merged.rename(columns={'Stop Name':'stop_name', 'Daytime Routes':'daytime_routes'})\n",
    "df_merged.drop('Common Name', axis=1, inplace=True)"
   ]
  },
  {
   "cell_type": "code",
   "execution_count": 7,
   "metadata": {},
   "outputs": [
    {
     "name": "stdout",
     "output_type": "stream",
     "text": [
      "Saving 11.1 x 4.17 in image\n"
     ]
    }
   ],
   "source": [
    "%%R -i df_merged -w 800 -h 300\n",
    "\n",
    "df_merged %>%\n",
    "    mutate(common_name = fct_reorder(common_name, percent_out)) %>%\n",
    "    ggplot() +\n",
    "    aes(y = common_name, x = percent_out, fill = external, label = stop_name) +\n",
    "    geom_bar(stat='identity') +\n",
    "    labs(\n",
    "        title = 'Out of service elevators are mostly managed by third parties',\n",
    "        subtitle = '10 elevators with the highest percentage of downtime in 2023',\n",
    "    ) +  \n",
    "    theme_minimal() +\n",
    "    theme(\n",
    "        legend.title=element_blank(),\n",
    "        panel.grid.minor = element_blank(),\n",
    "        panel.grid.major = element_blank(),\n",
    "        axis.line.x = element_line(color = \"grey80\", linewidth = .4),\n",
    "        axis.ticks.x = element_line(color = \"grey80\", linewidth = .4),\n",
    "        axis.title.y = element_blank(),\n",
    "        axis.title.x = element_blank(),\n",
    "        axis.text.y = element_text(hjust = 0),\n",
    "        plot.margin = margin(10, 15, 10, 15)\n",
    "    ) +\n",
    "    scale_x_continuous(\n",
    "        expand = c(0, 0), \n",
    "        limits = c(0, .55),\n",
    "        labels = scales::label_percent(),\n",
    "  ) +\n",
    "    scale_fill_discrete(\n",
    "        labels = c('MTA managed', 'Third party managed')\n",
    "        ) +\n",
    "    # add daytime_routes and stop name as labels\n",
    "    geom_text_repel(\n",
    "        aes(label = daytime_routes), \n",
    "        nudge_x = 0.05, \n",
    "        segment.size = 0,\n",
    "        color = 'black',\n",
    "        hjust = 0.0,\n",
    "        vjust = 0.5,\n",
    "     ) +\n",
    "    geom_text_repel(\n",
    "        aes(label = stop_name), \n",
    "        nudge_x = -0.05, \n",
    "        segment.size = 0,\n",
    "        color = 'black',\n",
    "        hjust = 0.0,\n",
    "        vjust = 0.5,\n",
    "     ) \n",
    "    \n",
    "    # save and adjust resolution\n",
    "    ggsave('top_10_elevators_downtime.svg', dpi=300)"
   ]
  },
  {
   "cell_type": "code",
   "execution_count": null,
   "metadata": {},
   "outputs": [],
   "source": []
  }
 ],
 "metadata": {
  "kernelspec": {
   "display_name": "Python 3",
   "language": "python",
   "name": "python3"
  },
  "language_info": {
   "codemirror_mode": {
    "name": "ipython",
    "version": 3
   },
   "file_extension": ".py",
   "mimetype": "text/x-python",
   "name": "python",
   "nbconvert_exporter": "python",
   "pygments_lexer": "ipython3",
   "version": "3.11.7"
  }
 },
 "nbformat": 4,
 "nbformat_minor": 2
}
